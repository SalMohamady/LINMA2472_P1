{
 "cells": [
  {
   "cell_type": "code",
   "execution_count": 1,
   "metadata": {},
   "outputs": [
    {
     "name": "stdout",
     "output_type": "stream",
     "text": [
      "Requirement already satisfied: python-louvain in c:\\users\\alsa7004\\anaconda3\\lib\\site-packages (0.16)\n",
      "Requirement already satisfied: networkx in c:\\users\\alsa7004\\anaconda3\\lib\\site-packages (from python-louvain) (2.8.7)\n",
      "Requirement already satisfied: numpy in c:\\users\\alsa7004\\anaconda3\\lib\\site-packages (from python-louvain) (1.23.4)\n",
      "Requirement already satisfied: louvain in c:\\users\\alsa7004\\anaconda3\\lib\\site-packages (0.8.0)\n",
      "Requirement already satisfied: igraph<0.11,>=0.10.0 in c:\\users\\alsa7004\\anaconda3\\lib\\site-packages (from louvain) (0.10.2)\n",
      "Requirement already satisfied: texttable>=1.6.2 in c:\\users\\alsa7004\\anaconda3\\lib\\site-packages (from igraph<0.11,>=0.10.0->louvain) (1.6.4)\n",
      "Requirement already satisfied: spacy in c:\\users\\alsa7004\\anaconda3\\lib\\site-packages (3.4.1)\n",
      "Requirement already satisfied: murmurhash<1.1.0,>=0.28.0 in c:\\users\\alsa7004\\anaconda3\\lib\\site-packages (from spacy) (1.0.9)\n",
      "Requirement already satisfied: pydantic!=1.8,!=1.8.1,<1.10.0,>=1.7.4 in c:\\users\\alsa7004\\anaconda3\\lib\\site-packages (from spacy) (1.9.2)\n",
      "Requirement already satisfied: jinja2 in c:\\users\\alsa7004\\anaconda3\\lib\\site-packages (from spacy) (2.11.2)\n",
      "Requirement already satisfied: tqdm<5.0.0,>=4.38.0 in c:\\users\\alsa7004\\anaconda3\\lib\\site-packages (from spacy) (4.50.2)\n",
      "Requirement already satisfied: requests<3.0.0,>=2.13.0 in c:\\users\\alsa7004\\anaconda3\\lib\\site-packages (from spacy) (2.24.0)\n",
      "Requirement already satisfied: spacy-loggers<2.0.0,>=1.0.0 in c:\\users\\alsa7004\\anaconda3\\lib\\site-packages (from spacy) (1.0.3)\n",
      "Requirement already satisfied: pathy>=0.3.5 in c:\\users\\alsa7004\\anaconda3\\lib\\site-packages (from spacy) (0.6.2)\n",
      "Requirement already satisfied: cymem<2.1.0,>=2.0.2 in c:\\users\\alsa7004\\anaconda3\\lib\\site-packages (from spacy) (2.0.7)\n",
      "Requirement already satisfied: wasabi<1.1.0,>=0.9.1 in c:\\users\\alsa7004\\anaconda3\\lib\\site-packages (from spacy) (0.10.1)\n",
      "Requirement already satisfied: packaging>=20.0 in c:\\users\\alsa7004\\anaconda3\\lib\\site-packages (from spacy) (20.4)\n",
      "Requirement already satisfied: setuptools in c:\\users\\alsa7004\\anaconda3\\lib\\site-packages (from spacy) (50.3.0.post20201006)\n",
      "Requirement already satisfied: numpy>=1.15.0 in c:\\users\\alsa7004\\anaconda3\\lib\\site-packages (from spacy) (1.23.4)\n",
      "Requirement already satisfied: catalogue<2.1.0,>=2.0.6 in c:\\users\\alsa7004\\anaconda3\\lib\\site-packages (from spacy) (2.0.8)\n",
      "Requirement already satisfied: typer<0.5.0,>=0.3.0 in c:\\users\\alsa7004\\anaconda3\\lib\\site-packages (from spacy) (0.4.2)\n",
      "Requirement already satisfied: preshed<3.1.0,>=3.0.2 in c:\\users\\alsa7004\\anaconda3\\lib\\site-packages (from spacy) (3.0.8)\n",
      "Requirement already satisfied: langcodes<4.0.0,>=3.2.0 in c:\\users\\alsa7004\\anaconda3\\lib\\site-packages (from spacy) (3.3.0)\n",
      "Requirement already satisfied: spacy-legacy<3.1.0,>=3.0.9 in c:\\users\\alsa7004\\anaconda3\\lib\\site-packages (from spacy) (3.0.10)\n",
      "Requirement already satisfied: srsly<3.0.0,>=2.4.3 in c:\\users\\alsa7004\\anaconda3\\lib\\site-packages (from spacy) (2.4.4)\n",
      "Requirement already satisfied: thinc<8.2.0,>=8.1.0 in c:\\users\\alsa7004\\anaconda3\\lib\\site-packages (from spacy) (8.1.4)\n",
      "Requirement already satisfied: typing-extensions>=3.7.4.3 in c:\\users\\alsa7004\\anaconda3\\lib\\site-packages (from pydantic!=1.8,!=1.8.1,<1.10.0,>=1.7.4->spacy) (4.3.0)\n",
      "Requirement already satisfied: MarkupSafe>=0.23 in c:\\users\\alsa7004\\anaconda3\\lib\\site-packages (from jinja2->spacy) (1.1.1)\n",
      "Requirement already satisfied: certifi>=2017.4.17 in c:\\users\\alsa7004\\anaconda3\\lib\\site-packages (from requests<3.0.0,>=2.13.0->spacy) (2020.12.5)\n",
      "Requirement already satisfied: idna<3,>=2.5 in c:\\users\\alsa7004\\anaconda3\\lib\\site-packages (from requests<3.0.0,>=2.13.0->spacy) (2.10)\n",
      "Requirement already satisfied: chardet<4,>=3.0.2 in c:\\users\\alsa7004\\anaconda3\\lib\\site-packages (from requests<3.0.0,>=2.13.0->spacy) (3.0.4)\n",
      "Requirement already satisfied: urllib3!=1.25.0,!=1.25.1,<1.26,>=1.21.1 in c:\\users\\alsa7004\\anaconda3\\lib\\site-packages (from requests<3.0.0,>=2.13.0->spacy) (1.25.11)\n",
      "Requirement already satisfied: smart-open<6.0.0,>=5.2.1 in c:\\users\\alsa7004\\anaconda3\\lib\\site-packages (from pathy>=0.3.5->spacy) (5.2.1)\n",
      "Requirement already satisfied: pyparsing>=2.0.2 in c:\\users\\alsa7004\\anaconda3\\lib\\site-packages (from packaging>=20.0->spacy) (2.4.7)\n",
      "Requirement already satisfied: six in c:\\users\\alsa7004\\anaconda3\\lib\\site-packages (from packaging>=20.0->spacy) (1.15.0)\n",
      "Requirement already satisfied: click<9.0.0,>=7.1.1 in c:\\users\\alsa7004\\anaconda3\\lib\\site-packages (from typer<0.5.0,>=0.3.0->spacy) (7.1.2)\n",
      "Requirement already satisfied: confection<1.0.0,>=0.0.1 in c:\\users\\alsa7004\\anaconda3\\lib\\site-packages (from thinc<8.2.0,>=8.1.0->spacy) (0.0.3)\n",
      "Requirement already satisfied: blis<0.8.0,>=0.7.8 in c:\\users\\alsa7004\\anaconda3\\lib\\site-packages (from thinc<8.2.0,>=8.1.0->spacy) (0.7.8)\n",
      "Requirement already satisfied: ftfy in c:\\users\\alsa7004\\anaconda3\\lib\\site-packages (6.1.1)\n",
      "Requirement already satisfied: wcwidth>=0.2.5 in c:\\users\\alsa7004\\anaconda3\\lib\\site-packages (from ftfy) (0.2.5)\n",
      "Requirement already satisfied: matplotlib in c:\\users\\alsa7004\\anaconda3\\lib\\site-packages (3.6.1)\n",
      "Requirement already satisfied: python-dateutil>=2.7 in c:\\users\\alsa7004\\anaconda3\\lib\\site-packages (from matplotlib) (2.8.1)\n",
      "Requirement already satisfied: fonttools>=4.22.0 in c:\\users\\alsa7004\\anaconda3\\lib\\site-packages (from matplotlib) (4.37.4)\n",
      "Requirement already satisfied: packaging>=20.0 in c:\\users\\alsa7004\\anaconda3\\lib\\site-packages (from matplotlib) (20.4)\n",
      "Requirement already satisfied: pillow>=6.2.0 in c:\\users\\alsa7004\\anaconda3\\lib\\site-packages (from matplotlib) (8.0.0)\n",
      "Requirement already satisfied: contourpy>=1.0.1 in c:\\users\\alsa7004\\anaconda3\\lib\\site-packages (from matplotlib) (1.0.5)\n",
      "Requirement already satisfied: pyparsing>=2.2.1 in c:\\users\\alsa7004\\anaconda3\\lib\\site-packages (from matplotlib) (2.4.7)\n",
      "Requirement already satisfied: cycler>=0.10 in c:\\users\\alsa7004\\anaconda3\\lib\\site-packages (from matplotlib) (0.11.0)\n",
      "Requirement already satisfied: numpy>=1.19 in c:\\users\\alsa7004\\anaconda3\\lib\\site-packages (from matplotlib) (1.23.4)\n",
      "Requirement already satisfied: kiwisolver>=1.0.1 in c:\\users\\alsa7004\\anaconda3\\lib\\site-packages (from matplotlib) (1.4.4)\n",
      "Requirement already satisfied: six>=1.5 in c:\\users\\alsa7004\\anaconda3\\lib\\site-packages (from python-dateutil>=2.7->matplotlib) (1.15.0)\n"
     ]
    }
   ],
   "source": [
    "import spacy\n",
    "import re\n",
    "from pathlib import Path\n",
    "import ftfy\n",
    "import numpy as np\n",
    "import sys\n",
    "!{sys.executable} -m pip install python-louvain\n",
    "!{sys.executable} -m pip install louvain\n",
    "!{sys.executable} -m pip install spacy\n",
    "!{sys.executable} -m pip install ftfy\n",
    "!{sys.executable} -m pip install matplotlib\n",
    "\n",
    "\n",
    "allnames_withliers=['Pison', 'Hiddekel', 'Adam', 'Eve', 'Cain', 'Enoch', 'Irad', 'Methusael', 'Lamech', 'Zillah', 'Seth', 'Enos', 'Methuselah', 'Noah', 'Canaan', 'Shem', 'Cush', 'Mizraim', 'Heth', 'Gether', 'Salah', 'Eber', 'Peleg', 'Jerah', 'Uzal', 'Diklah', 'Obal', 'Terah', 'Abram', 'Haran', 'Lot', 'Sarai', 'Shinab', 'Zoar', 'Dan', 'Sarah', 'Benammi', 'Nahor', 'Buz', 'Kemuel', 'Chesed', 'Jidlaph', 'Rebekah', 'Laban', 'Zimran', 'Medan', 'Jokshan', 'Sheba', 'Epher', 'Abidah', 'Isaac', 'Ishmael', 'Rachel', 'Bilhah', 'Levi', 'Jacob', 'Asher', 'Reuben', 'Zebulun', 'Dinah', 'Joseph', 'Deborah', 'Benjamin', 'Naphtali', 'Korah', 'Omar', 'Zepho', 'Zerah', 'Jaalam', 'Lotan', 'Shobal', 'Dishan', 'Samlah', 'Baalhanan', 'Mehetabel', 'Hirah', 'Onan', 'Pharez', 'Jachin', 'Shaul', 'Arodi', 'Malchiel', 'Belah', 'Jordan', 'Ephron', 'Machir', 'Abraham', 'Aaron', 'Jethro', 'Zipporah', 'Shimi', 'Elzaphan', 'Eleazar', 'Miriam', 'Hur', 'Joshua', 'Eliezer']\n",
    "allnames=['Pison', 'Hiddekel', 'Adam', 'Eve', 'Cain', 'Enoch', 'Irad', 'Lamech', 'Zillah', 'Seth', 'Enos', 'Methuselah', 'Noah', 'Canaan', 'Shem', 'Cush', 'Heth', 'Gether', 'Salah', 'Peleg', 'Jerah', 'Uzal', 'Diklah', 'Obal', 'Terah', 'Abram', 'Sarai', 'Shinab', 'Zoar', 'Dan', 'Sarah', 'Benammi', 'Nahor', 'Buz', 'Kemuel', 'Chesed', 'Jidlaph', 'Rebekah', 'Laban', 'Zimran', 'Medan', 'Sheba', 'Epher', 'Abidah', 'Isaac', 'Rachel', 'Bilhah', 'Levi', 'Asher', 'Reuben', 'Zebulun', 'Dinah', 'Joseph', 'Benjamin', 'Naphtali', 'Korah', 'Omar', 'Zepho', 'Zerah', 'Jaalam', 'Lotan', 'Shobal', 'Dishan', 'Samlah', 'Baalhanan', 'Mehetabel', 'Hirah', 'Onan', 'Pharez', 'Jachin', 'Shaul', 'Arodi', 'Malchiel', 'Belah', 'Jordan', 'Machir', 'Aaron', 'Jethro', 'Zipporah', 'Shimi', 'Elzaphan', 'Miriam', 'Hur', 'Joshua', 'Eliezer']\n",
    "lg_allnames = len(allnames)"
   ]
  },
  {
   "cell_type": "code",
   "execution_count": 2,
   "metadata": {},
   "outputs": [],
   "source": [
    "def get_index(list_name):\n",
    "    \"\"\"Return the list of indices, in the global list of names, of the names in list_name\n",
    "    \"\"\"\n",
    "    list_index=[]\n",
    "\n",
    "    for i in list_name:\n",
    "        for j in range(lg_allnames):\n",
    "            if(i==allnames[j]):\n",
    "                list_index.append(j)\n",
    "\n",
    "    return list_index"
   ]
  },
  {
   "cell_type": "code",
   "execution_count": 3,
   "metadata": {},
   "outputs": [
    {
     "data": {
      "text/plain": [
       "\"name_test = set(('Aaron', 'Hur', 'Benjamin'))\\nmatrix1, matrix2 = update_matrix(name_test,np.zeros((lg_allnames,lg_allnames)), np.zeros((lg_allnames,lg_allnames)))\""
      ]
     },
     "execution_count": 3,
     "metadata": {},
     "output_type": "execute_result"
    }
   ],
   "source": [
    "import numpy as np\n",
    "def update_matrix(names, matrix_occ, matrix_diag):\n",
    "    \"\"\"Based on a list of names, update the matrix of occurence and the diagonal matrix\n",
    "    Param\n",
    "    -----------\n",
    "    names : [str] List of names\n",
    "    matrix_occ : [[int]] matrix containing 1 if 2 caracters been mentionned in a same verset\n",
    "    matrix_diag : [[int]] matrix diagonal containing the degree of each nodes (the number of contacts with others characters)\n",
    "    \"\"\"\n",
    "    if names:\n",
    "        list_index = get_index(names)\n",
    "\n",
    "        for i in range(len(list_index)-1):\n",
    "            for j in range(i+1,len(list_index)):\n",
    "                # Verify if the two characters not been mentionned in a same verset before\n",
    "                if(matrix_occ[list_index[i]][list_index[j]]==0):\n",
    "                    # Adding the fact that these two characters has been mentionned\n",
    "                    matrix_occ[list_index[j]][list_index[i]]=1\n",
    "                    matrix_occ[list_index[i]][list_index[j]]=1\n",
    "                    # Add another new connection for the 2 characters\n",
    "                    matrix_diag[list_index[i]][list_index[i]]+=1\n",
    "                    matrix_diag[list_index[j]][list_index[j]]+=1\n",
    "        \n",
    "    return matrix_occ, matrix_diag\n",
    "\n",
    "\"\"\"name_test = set(('Aaron', 'Hur', 'Benjamin'))\n",
    "matrix1, matrix2 = update_matrix(name_test,np.zeros((lg_allnames,lg_allnames)), np.zeros((lg_allnames,lg_allnames)))\"\"\""
   ]
  },
  {
   "cell_type": "code",
   "execution_count": 4,
   "metadata": {},
   "outputs": [],
   "source": [
    "def extract_names(path):\n",
    "    #names_by_verset={}\n",
    "    NER = spacy.load(\"en_core_web_sm\")\n",
    "    # Load the text document in a list of verset\n",
    "    doc = Path(path, encoding='cp1252').read_text(encoding='cp1252').split('\\n\\n')\n",
    "\n",
    "    matrix_occ = np.zeros((lg_allnames, lg_allnames))\n",
    "    matrix_diag = np.zeros((lg_allnames,lg_allnames))\n",
    "\n",
    "    for i in range(len(doc)):\n",
    "        # Preprocess and clean each verset\n",
    "        doc[i]= re.sub(' +', ' ', ftfy.fix_text(doc[i]))\n",
    "        doc[i]= re.sub('\\n', ' ', doc[i])\n",
    "        doc[i]= re.sub('\\'', ' ', doc[i])\n",
    "\n",
    "        # Init the key i to get all names present in the verset ith\n",
    "        names_by_verset = []\n",
    "        text1= NER(doc[i])\n",
    "\n",
    "        # Incorpore each name once in the dictionnary at the ith position\n",
    "        for word in text1.ents:\n",
    "            if(word.label_ == \"PERSON\"):\n",
    "                if(word.text in allnames):\n",
    "                    if(word.text not in names_by_verset):\n",
    "                        names_by_verset.append(word.text)\n",
    "\n",
    "        matrix_occ, matrix_diag =update_matrix(names_by_verset, matrix_occ, matrix_diag)\n",
    "    return matrix_occ, matrix_diag\n",
    "\n",
    "matrix_occ, matrix_diag = extract_names('bible12_n.txt')"
   ]
  },
  {
   "cell_type": "code",
   "execution_count": 5,
   "metadata": {},
   "outputs": [
    {
     "name": "stderr",
     "output_type": "stream",
     "text": [
      "<ipython-input-5-9f165242ce4d>:14: RuntimeWarning: divide by zero encountered in log\n",
      "  matrix = np.log(matrix)\n"
     ]
    },
    {
     "data": {
      "image/png": "[encoded data removed]",
      "text/plain": [
       "<Figure size 480x480 with 2 Axes>"
      ]
     },
     "metadata": {},
     "output_type": "display_data"
    }
   ],
   "source": [
    "import matplotlib.pyplot as plt\n",
    "def plot_matrix(matrix):\n",
    "\n",
    "\n",
    "    for i in range (len(matrix)):\n",
    "        for j in range (len(matrix)):\n",
    "\n",
    "            if (i!=j):\n",
    "                if (matrix[i][j]==0 ):\n",
    "                    matrix[i][j] =1\n",
    "                elif (matrix[i][j]==1 ):\n",
    "                    matrix[i][j] =0\n",
    "\n",
    "    matrix = np.log(matrix)\n",
    "    plt.matshow(matrix)\n",
    "    plt.colorbar()\n",
    "    plt.show()\n",
    "\n",
    "plot_matrix(matrix_diag-matrix_occ+1)"
   ]
  },
  {
   "cell_type": "code",
   "execution_count": 6,
   "metadata": {},
   "outputs": [
    {
     "name": "stdout",
     "output_type": "stream",
     "text": [
      "Graph with 85 nodes and 337 edges\n"
     ]
    }
   ],
   "source": [
    "import networkx as nx\n",
    "def create_graph(matrix):\n",
    "    G = nx.Graph()\n",
    "\n",
    "\n",
    "    G.add_nodes_from([i for i in range(lg_allnames)], weight = [matrix[i][i] for i in range(lg_allnames)])\n",
    "\n",
    "    for j in range(lg_allnames-1):\n",
    "        for k in range (j+1,lg_allnames,1):\n",
    "            if(matrix_occ[j][k]!=0):\n",
    "                G.add_edge(j,k)\n",
    "\n",
    "\n",
    "    return G\n",
    "\n",
    "graph_net = create_graph(matrix_diag+matrix_occ)\n",
    "nx.draw(graph_net, nx.spring_layout(graph_net), node_color='black', node_size=20, width=0.5)\n",
    "print(graph_net)"
   ]
  },
  {
   "cell_type": "code",
   "execution_count": 7,
   "metadata": {},
   "outputs": [
    {
     "data": {
      "image/png": "[encoded data removed]",
      "text/plain": [
       "<Figure size 640x480 with 1 Axes>"
      ]
     },
     "metadata": {},
     "output_type": "display_data"
    }
   ],
   "source": [
    "def display_histo(matrix):\n",
    "    \"\"\"Display a histo of the degree's frequencies\n",
    "    \"\"\"\n",
    "\n",
    "    maximum = int(matrix.max())\n",
    "\n",
    "    diagoV = [matrix[i][i] for i in range (len (matrix))]\n",
    "    plt.hist(diagoV,bins = list(range(0,int(maximum)+1)))\n",
    "\n",
    "\n",
    "    plt.show()\n",
    "\n",
    "display_histo(matrix_diag)"
   ]
  },
  {
   "cell_type": "code",
   "execution_count": 8,
   "metadata": {},
   "outputs": [
    {
     "name": "stdout",
     "output_type": "stream",
     "text": [
      "Requirement already satisfied: python-louvain in c:\\users\\alsa7004\\anaconda3\\lib\\site-packages (0.16)\n",
      "Requirement already satisfied: numpy in c:\\users\\alsa7004\\anaconda3\\lib\\site-packages (from python-louvain) (1.23.4)\n",
      "Requirement already satisfied: networkx in c:\\users\\alsa7004\\anaconda3\\lib\\site-packages (from python-louvain) (2.8.7)\n"
     ]
    }
   ],
   "source": [
    "!pip3 install python-louvain"
   ]
  },
  {
   "cell_type": "code",
   "execution_count": 9,
   "metadata": {},
   "outputs": [
    {
     "data": {
      "image/png": "[encoded data removed]",
      "text/plain": [
       "<Figure size 640x480 with 1 Axes>"
      ]
     },
     "metadata": {},
     "output_type": "display_data"
    }
   ],
   "source": [
    "import community.community_louvain as community_louvain\n",
    "import matplotlib.cm as cm\n",
    "\n",
    "def louvain(G):\n",
    "\n",
    "    partition = community_louvain.best_partition(G)\n",
    "\n",
    "\n",
    "    pos = nx.spring_layout(G)\n",
    "    # color the nodes according to their partition\n",
    "    cmap = cm.get_cmap('viridis', max(partition.values()) + 1)\n",
    "    nx.draw_networkx_nodes(G, pos, partition.keys(), node_size=10,cmap=cmap, node_color=list(partition.values()))\n",
    "    nx.draw_networkx_edges(G, pos, alpha=0.5)\n",
    "    plt.show()\n",
    "\n",
    "louvain(graph_net)"
   ]
  },
  {
   "cell_type": "code",
   "execution_count": 36,
   "metadata": {},
   "outputs": [],
   "source": [
    "import time"
   ]
  },
  {
   "cell_type": "code",
   "execution_count": 103,
   "metadata": {},
   "outputs": [
    {
     "name": "stdout",
     "output_type": "stream",
     "text": [
      "Requirement already satisfied: python-igraph in c:\\users\\alsa7004\\anaconda3\\lib\\site-packages (0.10.2)Note: you may need to restart the kernel to use updated packages.\n",
      "Requirement already satisfied: igraph==0.10.2 in c:\\users\\alsa7004\\anaconda3\\lib\\site-packages (from python-igraph) (0.10.2)\n",
      "Requirement already satisfied: texttable>=1.6.2 in c:\\users\\alsa7004\\anaconda3\\lib\\site-packages (from igraph==0.10.2->python-igraph) (1.6.4)\n",
      "\n"
     ]
    }
   ],
   "source": [
    "pip install python-igraph"
   ]
  },
  {
   "cell_type": "code",
   "execution_count": 61,
   "metadata": {},
   "outputs": [],
   "source": [
    "from igraph import Graph as graph"
   ]
  },
  {
   "cell_type": "code",
   "execution_count": 132,
   "metadata": {},
   "outputs": [],
   "source": [
    "all_nodes = graph_net.nodes"
   ]
  },
  {
   "cell_type": "code",
   "execution_count": 140,
   "metadata": {},
   "outputs": [
    {
     "data": {
      "text/plain": [
       "1.5529411764705883"
      ]
     },
     "execution_count": 140,
     "metadata": {},
     "output_type": "execute_result"
    }
   ],
   "source": [
    "def compute_independent_cascade(graph, seed_nodes, prob, n_iters=85):\n",
    "    total_spead = 0\n",
    "    \n",
    "    # simulate the spread process over multiple runs\n",
    "    for i in range(n_iters):\n",
    "        np.random.seed(i)\n",
    "        active = seed_nodes[:]\n",
    "        new_active = seed_nodes[:]\n",
    "        \n",
    "        # for each newly activated nodes, find its neighbors that becomes activated\n",
    "        while new_active:\n",
    "            activated_nodes = []\n",
    "            for node in new_active:\n",
    "                neighbors = list(graph_net.neighbors(node))\n",
    "                success = np.random.uniform(0, 1) < prob\n",
    "                activated_nodes += list(np.extract(success, neighbors))\n",
    "\n",
    "            # ensure the newly activated nodes doesn't already exist\n",
    "            # in the final list of activated nodes before adding them\n",
    "            # to the final list\n",
    "\n",
    "            new_active = list(set(activated_nodes) - set(active))\n",
    "            active += new_active\n",
    "\n",
    "        total_spead += len(active)\n",
    "\n",
    "    return total_spead / n_iters\n",
    "\n",
    "\n",
    "# assuming we start with 1 seed node\n",
    "seed_nodes = [0]\n",
    "compute_independent_cascade(graph, seed_nodes, prob=0.5)\n"
   ]
  },
  {
   "cell_type": "code",
   "execution_count": 141,
   "metadata": {},
   "outputs": [],
   "source": [
    "def greedy(graph, k, prob=0., n_iters=1000):\n",
    "    \"\"\"\n",
    "    Find k nodes with the largest spread (determined by IC) from a igraph graph\n",
    "    using the Greedy Algorithm.\n",
    "    \"\"\"\n",
    "\n",
    "    # we will be storing elapsed time and spreads along the way, in a setting where\n",
    "    # we only care about the final solution, we don't need to record these\n",
    "    # additional information\n",
    "\n",
    "    elapsed = []\n",
    "    spreads = []\n",
    "    solution = []\n",
    "    start_time = time.time()\n",
    "    \n",
    "    for _ in range(k):\n",
    "        best_node = -1\n",
    "        best_spread = -np.inf\n",
    "        \n",
    "        # loop over nodes that are not yet in our final solution\n",
    "        # to find biggest marginal gain\n",
    "        \n",
    "        for node in all_nodes:\n",
    "            spread = compute_independent_cascade(graph, solution + [node], prob, n_iters)\n",
    "            if spread > best_spread:\n",
    "                best_spread = spread\n",
    "                best_node = node\n",
    "                \n",
    "        solution.append(best_node)\n",
    "        spreads.append(best_spread)\n",
    "\n",
    "        elapse = round(time.time() - start_time, 3)\n",
    "        elapsed.append(elapse)\n",
    "\n",
    "    return solution, spreads, elapsed"
   ]
  },
  {
   "cell_type": "code",
   "execution_count": 142,
   "metadata": {},
   "outputs": [
    {
     "name": "stdout",
     "output_type": "stream",
     "text": [
      "solution:  [2, 15, 29, 31]\n",
      "spreads:  [1.2352941176470589, 2.4352941176470586, 3.6470588235294117, 4.964705882352941]\n",
      "elapsed:  [0.255, 0.549, 1.148, 1.921]\n"
     ]
    }
   ],
   "source": [
    "k = 4\n",
    "prob = 0.2\n",
    "n_iters = 85\n",
    "greedy_solution, greedy_spreads, greedy_elapsed = greedy(graph_net, k, prob, n_iters)\n",
    "print('solution: ', greedy_solution)\n",
    "print('spreads: ', greedy_spreads)\n",
    "print('elapsed: ', greedy_elapsed)"
   ]
  },
  {
   "cell_type": "code",
   "execution_count": null,
   "metadata": {},
   "outputs": [],
   "source": []
  }
 ],
 "metadata": {
  "kernelspec": {
   "display_name": "Python 3",
   "language": "python",
   "name": "python3"
  },
  "language_info": {
   "codemirror_mode": {
    "name": "ipython",
    "version": 3
   },
   "file_extension": ".py",
   "mimetype": "text/x-python",
   "name": "python",
   "nbconvert_exporter": "python",
   "pygments_lexer": "ipython3",
   "version": "3.8.5"
  }
 },
 "nbformat": 4,
 "nbformat_minor": 4
}
